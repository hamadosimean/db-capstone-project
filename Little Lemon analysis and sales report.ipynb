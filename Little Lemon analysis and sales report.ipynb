{
 "cells": [
  {
   "cell_type": "markdown",
   "id": "dad407f5-71f4-42e2-a4e4-e1cb3d9a1e3b",
   "metadata": {},
   "source": [
    "## Installing and setting connection"
   ]
  },
  {
   "cell_type": "code",
   "execution_count": 2,
   "id": "1c32e208-d512-4bc2-a530-1621848d1c28",
   "metadata": {},
   "outputs": [
    {
     "name": "stdout",
     "output_type": "stream",
     "text": [
      "Installation of the module MySQL Connector/python\n",
      "Requirement already satisfied: mysql-connector-python in c:\\users\\hamad\\appdata\\local\\programs\\python\\python311\\lib\\site-packages (8.4.0)\n"
     ]
    }
   ],
   "source": [
    "print(\"Installation of the module MySQL Connector/python\")\n",
    "!pip install mysql-connector-python"
   ]
  },
  {
   "cell_type": "code",
   "execution_count": 5,
   "id": "1d1b004f-06b6-4a2e-a558-61591509cdd8",
   "metadata": {},
   "outputs": [],
   "source": [
    "## import MySQL Connector/Python module\n",
    "import mysql.connector as connector\n",
    "from mysql.connector.pooling import MySQLConnectionPool"
   ]
  },
  {
   "cell_type": "code",
   "execution_count": 9,
   "id": "59adc295-af7d-46bc-b3c8-2c24bc8e5309",
   "metadata": {},
   "outputs": [
    {
     "name": "stdout",
     "output_type": "stream",
     "text": [
      "MySQL Connection and Database creation is setting up...\n",
      "Done...\n"
     ]
    }
   ],
   "source": [
    "## Create connection\n",
    "print(\"MySQL Connection and Database creation is setting up...\")\n",
    "try:\n",
    "    connection = connector.connect(\n",
    "    user=\"root\",\n",
    "    password=\"\"\n",
    "    )\n",
    "    print(\"Done...\")\n",
    "except Exception as e:\n",
    "    print(\"Username or password is incorrect\")\n",
    "    print(f\"Error no {e.errno}\")\n",
    "    print(f\"Error Message {e.msg}\")\n"
   ]
  },
  {
   "cell_type": "code",
   "execution_count": 10,
   "id": "1ef857c3-efc5-4737-b7a6-66ef91327083",
   "metadata": {},
   "outputs": [],
   "source": [
    "## Cursor create\n",
    "cursor = connection.cursor()"
   ]
  },
  {
   "cell_type": "code",
   "execution_count": 13,
   "id": "dda3c988-e6bf-4936-8c35-f2756a1c0ea0",
   "metadata": {},
   "outputs": [
    {
     "name": "stdout",
     "output_type": "stream",
     "text": [
      "Database created successfully \n"
     ]
    }
   ],
   "source": [
    "## creation of database\n",
    "query = \"CREATE DATABASE IF NOT EXISTS little_lemon;\"\n",
    "cursor.execute(query)\n",
    "print(\"Database created successfully \")"
   ]
  },
  {
   "cell_type": "code",
   "execution_count": 16,
   "id": "6d304638-6893-4922-90df-1140da9159b5",
   "metadata": {},
   "outputs": [
    {
     "name": "stdout",
     "output_type": "stream",
     "text": [
      "Use of little_lemon database\n"
     ]
    }
   ],
   "source": [
    "print(\"Use of little_lemon database\")\n",
    "cursor.execute(\"USE little_lemon\")"
   ]
  },
  {
   "cell_type": "markdown",
   "id": "f49c1949-9729-423b-a6b3-850a8b12170c",
   "metadata": {},
   "source": [
    "## Creation of tables"
   ]
  },
  {
   "cell_type": "code",
   "execution_count": 18,
   "id": "55f70030-95e4-4ec3-908d-22efaf5b1d5e",
   "metadata": {},
   "outputs": [
    {
     "name": "stdout",
     "output_type": "stream",
     "text": [
      "MenuItmes table is created.\n",
      "\n",
      "Menu table is created.\n",
      "\n",
      "Bookings table is created.\n",
      "\n",
      "Orders table is created.\n",
      "\n",
      "Inserting data in MenuItems table.\n",
      "Total number of rows in MenuItem table: 17\n",
      "\n",
      "Inserting data in Menus table.\n",
      "Total number of rows in Menu table: 12\n",
      "\n",
      "Inserting data in Bookings table.\n",
      "Total number of rows in Bookings table: 6\n",
      "\n",
      "Inserting data in Orders table.\n",
      "Total number of rows in Orders table: 5\n",
      "\n",
      "The database \"little_lemon\" is ready for use.\n"
     ]
    }
   ],
   "source": [
    "# The SQL query for MenuItems table is: \n",
    "create_menuitem_table=\"\"\"\n",
    "CREATE TABLE MenuItems (\n",
    "ItemID INT AUTO_INCREMENT,\n",
    "Name VARCHAR(200),\n",
    "Type VARCHAR(100),\n",
    "Price INT,\n",
    "PRIMARY KEY (ItemID)\n",
    ");\"\"\"\n",
    "\n",
    "# Create MenuItems table\n",
    "cursor.execute(create_menuitem_table)\n",
    "print(\"MenuItmes table is created.\\n\")\n",
    "\n",
    "# The SQL query for Menu table is:\n",
    "create_menu_table=\"\"\"\n",
    "CREATE TABLE Menus (\n",
    "MenuID INT,\n",
    "ItemID INT,\n",
    "Cuisine VARCHAR(100),\n",
    "PRIMARY KEY (MenuID,ItemID)\n",
    ");\"\"\"\n",
    "\n",
    "# Create Menu table\n",
    "cursor.execute(create_menu_table)\n",
    "print(\"Menu table is created.\\n\")\n",
    "\n",
    "\n",
    "# The SQL query for Bookings table is:\n",
    "create_booking_table=\"\"\"\n",
    "CREATE TABLE Bookings (\n",
    "BookingID INT AUTO_INCREMENT,\n",
    "TableNo INT,\n",
    "GuestFirstName VARCHAR(100) NOT NULL,\n",
    "GuestLastName VARCHAR(100) NOT NULL,\n",
    "BookingSlot TIME NOT NULL,\n",
    "EmployeeID INT,\n",
    "PRIMARY KEY (BookingID)\n",
    ");\"\"\"\n",
    "\n",
    "# Create Bookings table\n",
    "cursor.execute(create_booking_table)\n",
    "print(\"Bookings table is created.\\n\")\n",
    "\n",
    "\n",
    "# The SQL query for Bookings table is:\n",
    "create_orders_table=\"\"\"\n",
    "CREATE TABLE Orders (\n",
    "OrderID INT,\n",
    "TableNo INT,\n",
    "MenuID INT,\n",
    "BookingID INT,\n",
    "BillAmount INT,\n",
    "Quantity INT,\n",
    "PRIMARY KEY (OrderID,TableNo)\n",
    ");\"\"\"\n",
    "\n",
    "# Create Orders table\n",
    "cursor.execute(create_orders_table)\n",
    "print(\"Orders table is created.\\n\")\n",
    "\n",
    "\n",
    "#*******************************************************#\n",
    "# Insert query to populate \"MenuItems\" table is:\n",
    "#*******************************************************#\n",
    "insert_menuitmes=\"\"\"\n",
    "INSERT INTO MenuItems (ItemID, Name, Type, Price)\n",
    "VALUES\n",
    "(1,'Olives','Starters',5),\n",
    "(2,'Flatbread','Starters', 5),\n",
    "(3, 'Minestrone', 'Starters', 8),\n",
    "(4, 'Tomato bread','Starters', 8),\n",
    "(5, 'Falafel', 'Starters', 7),\n",
    "(6, 'Hummus', 'Starters', 5),\n",
    "(7, 'Greek salad', 'Main Courses', 15),\n",
    "(8, 'Bean soup', 'Main Courses', 12),\n",
    "(9, 'Pizza', 'Main Courses', 15),\n",
    "(10,'Greek yoghurt','Desserts', 7),\n",
    "(11, 'Ice cream', 'Desserts', 6),\n",
    "(12, 'Cheesecake', 'Desserts', 4),\n",
    "(13, 'Athens White wine', 'Drinks', 25),\n",
    "(14, 'Corfu Red Wine', 'Drinks', 30),\n",
    "(15, 'Turkish Coffee', 'Drinks', 10),\n",
    "(16, 'Turkish Coffee', 'Drinks', 10),\n",
    "(17, 'Kabasa', 'Main Courses', 17);\"\"\"\n",
    "\n",
    "#*******************************************************#\n",
    "# Insert query to populate \"Menu\" table is:\n",
    "#*******************************************************#\n",
    "insert_menu=\"\"\"\n",
    "INSERT INTO Menus (MenuID,ItemID,Cuisine)\n",
    "VALUES\n",
    "(1, 1, 'Greek'),\n",
    "(1, 7, 'Greek'),\n",
    "(1, 10, 'Greek'),\n",
    "(1, 13, 'Greek'),\n",
    "(2, 3, 'Italian'),\n",
    "(2, 9, 'Italian'),\n",
    "(2, 12, 'Italian'),\n",
    "(2, 15, 'Italian'),\n",
    "(3, 5, 'Turkish'),\n",
    "(3, 17, 'Turkish'),\n",
    "(3, 11, 'Turkish'),\n",
    "(3, 16, 'Turkish');\"\"\"\n",
    "\n",
    "#*******************************************************#\n",
    "# Insert query to populate \"Bookings\" table is:\n",
    "#*******************************************************#\n",
    "insert_bookings=\"\"\"\n",
    "INSERT INTO Bookings (BookingID, TableNo, GuestFirstName, \n",
    "GuestLastName, BookingSlot, EmployeeID)\n",
    "VALUES\n",
    "(1,12,'Anna','Iversen','19:00:00',1),\n",
    "(2, 12, 'Joakim', 'Iversen', '19:00:00', 1),\n",
    "(3, 19, 'Vanessa', 'McCarthy', '15:00:00', 3),\n",
    "(4, 15, 'Marcos', 'Romero', '17:30:00', 4),\n",
    "(5, 5, 'Hiroki', 'Yamane', '18:30:00', 2),\n",
    "(6, 8, 'Diana', 'Pinto', '20:00:00', 5);\"\"\"\n",
    "\n",
    "#*******************************************************#\n",
    "# Insert query to populate \"Orders\" table is:\n",
    "#*******************************************************#\n",
    "insert_orders=\"\"\"\n",
    "INSERT INTO Orders (OrderID, TableNo, MenuID, BookingID, Quantity, BillAmount)\n",
    "VALUES\n",
    "(1, 12, 1, 1, 2, 86),\n",
    "(2, 19, 2, 2, 1, 37),\n",
    "(3, 15, 2, 3, 1, 37),\n",
    "(4, 5, 3, 4, 1, 40),\n",
    "(5, 8, 1, 5, 1, 43);\"\"\"\n",
    "\n",
    "\n",
    "print(\"Inserting data in MenuItems table.\")\n",
    "# Populate MenuItems table\n",
    "cursor.execute(insert_menuitmes)\n",
    "print(\"Total number of rows in MenuItem table: {}\\n\".format(cursor.rowcount))\n",
    "# Once the query is executed, you commit the change into the database \n",
    "connection.commit()\n",
    "\n",
    "print(\"Inserting data in Menus table.\")\n",
    "# Populate MenuItems table\n",
    "cursor.execute(insert_menu)\n",
    "print(\"Total number of rows in Menu table: {}\\n\".format(cursor.rowcount))\n",
    "connection.commit()\n",
    "\n",
    "print(\"Inserting data in Bookings table.\")\n",
    "# Populate Bookings table\n",
    "cursor.execute(insert_bookings)\n",
    "print(\"Total number of rows in Bookings table: {}\\n\".format(cursor.rowcount))\n",
    "connection.commit()\n",
    "\n",
    "print(\"Inserting data in Orders table.\")\n",
    "# Populate Orders table\n",
    "cursor.execute(insert_orders)\n",
    "print(\"Total number of rows in Orders table: {}\\n\".format(cursor.rowcount))\n",
    "connection.commit()\n",
    "\n",
    "print(\"\"\"The database \"little_lemon\" is ready for use.\"\"\")"
   ]
  },
  {
   "cell_type": "markdown",
   "id": "1928583c-676f-461a-91be-bf4e3056b539",
   "metadata": {},
   "source": [
    "## Updating"
   ]
  },
  {
   "cell_type": "code",
   "execution_count": 19,
   "id": "a75e6ef6-2f30-45c3-a39e-422598ea092b",
   "metadata": {},
   "outputs": [
    {
     "name": "stdout",
     "output_type": "stream",
     "text": [
      "Updating Bookings table on bookingid = 6\n"
     ]
    }
   ],
   "source": [
    "print(\"Updating Bookings table on bookingid = 6\")\n",
    "sql_query =  \"\"\"\n",
    "UPDATE Bookings SET TableNo = 12 WHERE BookingID = 6\n",
    "\"\"\"\n",
    "cursor.execute(sql_query)\n",
    "connection.commit()"
   ]
  },
  {
   "cell_type": "markdown",
   "id": "72cf16eb-cfbd-40e3-bc02-e31e993f86b8",
   "metadata": {},
   "source": [
    "## Deletion"
   ]
  },
  {
   "cell_type": "code",
   "execution_count": 20,
   "id": "dfe248b3-d547-417a-94d6-7b1f71924e54",
   "metadata": {},
   "outputs": [
    {
     "name": "stdout",
     "output_type": "stream",
     "text": [
      "Deletion operated successfully\n"
     ]
    }
   ],
   "source": [
    "sql_query =  \"\"\"\n",
    "DELETE FROM Bookings WHERE bookingID = 4\n",
    "\"\"\"\n",
    "cursor.execute(sql_query)\n",
    "print(\"Deletion operated successfully\")\n",
    "connection.commit()"
   ]
  },
  {
   "cell_type": "markdown",
   "id": "8193ba76-8678-4c26-8466-d4ae6f3746ac",
   "metadata": {},
   "source": [
    "## Stored procedure "
   ]
  },
  {
   "cell_type": "code",
   "execution_count": 21,
   "id": "a58acc95-d7c4-4a1e-8e07-02752a492083",
   "metadata": {},
   "outputs": [],
   "source": [
    "query =\"\"\" \n",
    "CREATE PROCEDURE bookingItems()\n",
    "BEGIN\n",
    "SELECT * FROM Bookings;\n",
    "END;\n",
    "\"\"\"\n",
    "cursor.execute(query)"
   ]
  },
  {
   "cell_type": "code",
   "execution_count": 22,
   "id": "d708b288-42fd-411e-8155-76f42a908863",
   "metadata": {},
   "outputs": [
    {
     "name": "stdout",
     "output_type": "stream",
     "text": [
      "(1, 12, 'Anna', 'Iversen', datetime.timedelta(seconds=68400), 1)\n",
      "(2, 12, 'Joakim', 'Iversen', datetime.timedelta(seconds=68400), 1)\n",
      "(3, 19, 'Vanessa', 'McCarthy', datetime.timedelta(seconds=54000), 3)\n",
      "(5, 5, 'Hiroki', 'Yamane', datetime.timedelta(seconds=66600), 2)\n",
      "(6, 12, 'Diana', 'Pinto', datetime.timedelta(seconds=72000), 5)\n"
     ]
    }
   ],
   "source": [
    "## Calling procedure\n",
    "cursor.callproc(\"bookingItems\")\n",
    "results = next(cursor.stored_results())\n",
    "dataset = results.fetchall()\n",
    "for result in dataset:\n",
    "    print(result)"
   ]
  },
  {
   "cell_type": "code",
   "execution_count": 48,
   "id": "61639e4d-e3ca-46fe-9dae-480953d2f1d2",
   "metadata": {},
   "outputs": [
    {
     "name": "stdout",
     "output_type": "stream",
     "text": [
      "Deleting bookingitems ...\n",
      "Donne\n"
     ]
    }
   ],
   "source": [
    "print(\"Deleting bookingitems ...\")\n",
    "query =\"\"\" \n",
    "DROP PROCEDURE IF EXISTS bookingItems;\n",
    "\"\"\"\n",
    "cursor.execute(query)\n",
    "print(\"Donne\")"
   ]
  },
  {
   "cell_type": "markdown",
   "id": "5d829485-41ee-4450-98e7-a3c76ee5bb8c",
   "metadata": {},
   "source": [
    "## Functions"
   ]
  },
  {
   "cell_type": "code",
   "execution_count": 50,
   "id": "cbc403e8-d4e4-42b4-967a-31e7d7f2b079",
   "metadata": {},
   "outputs": [
    {
     "name": "stdout",
     "output_type": "stream",
     "text": [
      "Function deleted\n"
     ]
    }
   ],
   "source": [
    "query = \"DROP FUNCTION IF EXISTS MenuPriceDiscount\"\n",
    "cursor.execute(query)\n",
    "print(\"Function deleted\")"
   ]
  },
  {
   "cell_type": "code",
   "execution_count": 51,
   "id": "1bc12e81-c828-4070-9626-8b7716439fe3",
   "metadata": {},
   "outputs": [
    {
     "name": "stdout",
     "output_type": "stream",
     "text": [
      "This function returns price based on menu_id\n",
      "---------------------------------------------\n",
      "Function created successfully!\n"
     ]
    }
   ],
   "source": [
    "print(\"This function returns price based on menu_id\")\n",
    "print(\"---------------------------------------------\")\n",
    "\n",
    "# Define the function without using DELIMITER\n",
    "query = \"\"\"\n",
    "CREATE FUNCTION MenuPriceDiscount(item_id INT, discount_rate DECIMAL(4,2))\n",
    "RETURNS DECIMAL(10,2) DETERMINISTIC\n",
    "BEGIN\n",
    "    -- Declare variables\n",
    "    DECLARE menuprice DECIMAL(10,2);\n",
    "    DECLARE discounted_value DECIMAL(10,2);\n",
    "\n",
    "    -- Fetch price into menuprice\n",
    "    SELECT price INTO menuprice FROM MenuItems WHERE itemID = item_id;\n",
    "    \n",
    "    -- Check the validity of menuprice\n",
    "    IF menuprice IS NULL THEN\n",
    "        RETURN NULL;\n",
    "    END IF;\n",
    "    \n",
    "    -- Check the validity of discount rate\n",
    "    IF discount_rate < 0 OR discount_rate > 1 THEN\n",
    "        RETURN NULL;\n",
    "    END IF;\n",
    "    \n",
    "    -- Calculate discounted value\n",
    "    SET discounted_value = menuprice - (menuprice * discount_rate);\n",
    "    \n",
    "    -- Return the discounted value\n",
    "    RETURN discounted_value;\n",
    "END;\n",
    "\"\"\"\n",
    "\n",
    "# Execute the query to create the function\n",
    "cursor.execute(query)\n",
    "\n",
    "print(\"Function created successfully!\")"
   ]
  },
  {
   "cell_type": "code",
   "execution_count": 54,
   "id": "6fae47db-ad9e-4a10-a786-91f674959e37",
   "metadata": {},
   "outputs": [
    {
     "name": "stdout",
     "output_type": "stream",
     "text": [
      "5.60\n"
     ]
    }
   ],
   "source": [
    "## Calling the function MenuPriceDiscount\n",
    "\n",
    "query = \" SELECT MenuPriceDiscount(5,0.2)\"\n",
    "cursor.execute(query)\n",
    "result = cursor.fetchone()\n",
    "print(result[0])"
   ]
  },
  {
   "cell_type": "markdown",
   "id": "820b3cd3-9256-40da-8854-89044a5943b3",
   "metadata": {},
   "source": [
    "### Data analytics"
   ]
  },
  {
   "cell_type": "code",
   "execution_count": 56,
   "id": "52ccc91b-1c1e-4ac2-b639-dba20350f458",
   "metadata": {},
   "outputs": [],
   "source": [
    "import pandas as pd\n",
    "from matplotlib import pyplot as plt"
   ]
  },
  {
   "cell_type": "markdown",
   "id": "3ff331f7-e39d-4395-a567-bebd63997e9d",
   "metadata": {},
   "source": [
    "I will set a random threshold for the price and categorize it based on the following conditions:\n",
    "Loss: If the price is less than or equal to 8.\n",
    "Moderate Loss: If the price is between 8 and 10.\n",
    "Profit: If the price is greater than 10.\n",
    "### The purpose of this exercise is to learn and practice flow control (conditional statements) in programming."
   ]
  },
  {
   "cell_type": "code",
   "execution_count": 57,
   "id": "0ed074c5-7d54-494e-bf6d-74be862328df",
   "metadata": {},
   "outputs": [
    {
     "name": "stdout",
     "output_type": "stream",
     "text": [
      "('Olives', 'Starters', 'Loss')\n",
      "('Flatbread', 'Starters', 'Loss')\n",
      "('Minestrone', 'Starters', 'Monerate Loss')\n",
      "('Tomato bread', 'Starters', 'Monerate Loss')\n",
      "('Falafel', 'Starters', 'Loss')\n",
      "('Hummus', 'Starters', 'Loss')\n",
      "('Greek salad', 'Main Courses', 'Profit')\n",
      "('Bean soup', 'Main Courses', 'Profit')\n",
      "('Pizza', 'Main Courses', 'Profit')\n",
      "('Greek yoghurt', 'Desserts', 'Loss')\n",
      "('Ice cream', 'Desserts', 'Loss')\n",
      "('Cheesecake', 'Desserts', 'Loss')\n",
      "('Athens White wine', 'Drinks', 'Profit')\n",
      "('Corfu Red Wine', 'Drinks', 'Profit')\n",
      "('Turkish Coffee', 'Drinks', 'Monerate Loss')\n",
      "('Turkish Coffee', 'Drinks', 'Monerate Loss')\n",
      "('Kabasa', 'Main Courses', 'Profit')\n"
     ]
    }
   ],
   "source": [
    "query = \"\"\" \n",
    "SELECT \n",
    "    name,type,\n",
    "    CASE\n",
    "        WHEN price BETWEEN 8 AND 10 THEN \"Monerate Loss\"\n",
    "        WHEN price <=8 THEN \"Loss\"\n",
    "        WHEN price > 10 THEN \"Profit\"\n",
    "    ELSE \"UNKNOWN\" \n",
    "    END AS profit_status\n",
    "FROM MenuItems;\n",
    "\"\"\"\n",
    "cursor.execute(query)\n",
    "results = cursor.fetchall()\n",
    "for result in results:\n",
    "    print(result)"
   ]
  },
  {
   "cell_type": "code",
   "execution_count": 58,
   "id": "6c305393-c81a-48ba-9c16-abeb6558953d",
   "metadata": {},
   "outputs": [
    {
     "data": {
      "text/html": [
       "<div>\n",
       "<style scoped>\n",
       "    .dataframe tbody tr th:only-of-type {\n",
       "        vertical-align: middle;\n",
       "    }\n",
       "\n",
       "    .dataframe tbody tr th {\n",
       "        vertical-align: top;\n",
       "    }\n",
       "\n",
       "    .dataframe thead th {\n",
       "        text-align: right;\n",
       "    }\n",
       "</style>\n",
       "<table border=\"1\" class=\"dataframe\">\n",
       "  <thead>\n",
       "    <tr style=\"text-align: right;\">\n",
       "      <th></th>\n",
       "      <th>name</th>\n",
       "      <th>type</th>\n",
       "      <th>profit_status</th>\n",
       "    </tr>\n",
       "  </thead>\n",
       "  <tbody>\n",
       "    <tr>\n",
       "      <th>0</th>\n",
       "      <td>Olives</td>\n",
       "      <td>Starters</td>\n",
       "      <td>Loss</td>\n",
       "    </tr>\n",
       "    <tr>\n",
       "      <th>1</th>\n",
       "      <td>Flatbread</td>\n",
       "      <td>Starters</td>\n",
       "      <td>Loss</td>\n",
       "    </tr>\n",
       "    <tr>\n",
       "      <th>2</th>\n",
       "      <td>Minestrone</td>\n",
       "      <td>Starters</td>\n",
       "      <td>Monerate Loss</td>\n",
       "    </tr>\n",
       "    <tr>\n",
       "      <th>3</th>\n",
       "      <td>Tomato bread</td>\n",
       "      <td>Starters</td>\n",
       "      <td>Monerate Loss</td>\n",
       "    </tr>\n",
       "    <tr>\n",
       "      <th>4</th>\n",
       "      <td>Falafel</td>\n",
       "      <td>Starters</td>\n",
       "      <td>Loss</td>\n",
       "    </tr>\n",
       "  </tbody>\n",
       "</table>\n",
       "</div>"
      ],
      "text/plain": [
       "           name      type  profit_status\n",
       "0        Olives  Starters           Loss\n",
       "1     Flatbread  Starters           Loss\n",
       "2    Minestrone  Starters  Monerate Loss\n",
       "3  Tomato bread  Starters  Monerate Loss\n",
       "4       Falafel  Starters           Loss"
      ]
     },
     "execution_count": 58,
     "metadata": {},
     "output_type": "execute_result"
    }
   ],
   "source": [
    "# I use pandas dto display the data in a dataframe\n",
    "data = pd.DataFrame(results,columns=cursor.column_names)\n",
    "data.head()"
   ]
  },
  {
   "cell_type": "code",
   "execution_count": 60,
   "id": "50050909-9bcd-4fb9-9fe0-ee6754805a7d",
   "metadata": {},
   "outputs": [
    {
     "data": {
      "image/png": "[encoded data removed]",
      "text/plain": [
       "<Figure size 800x600 with 1 Axes>"
      ]
     },
     "metadata": {},
     "output_type": "display_data"
    }
   ],
   "source": [
    "# I use matplotlibe library to draw a bar chart from the data\n",
    "plt.figure(figsize=(8,6))\n",
    "plt.hist(data.type)\n",
    "plt.show()"
   ]
  },
  {
   "cell_type": "code",
   "execution_count": 61,
   "id": "0ecc7913-141b-4e66-9c43-131174204646",
   "metadata": {},
   "outputs": [
    {
     "data": {
      "image/png": "[encoded data removed]",
      "text/plain": [
       "<Figure size 800x600 with 1 Axes>"
      ]
     },
     "metadata": {},
     "output_type": "display_data"
    }
   ],
   "source": [
    "plt.figure(figsize=(8,6))\n",
    "plt.pie(x=data.profit_status.value_counts(),labels=data.profit_status.unique(),explode=[0,.05,0],colors=['green','red','yellow'])\n",
    "plt.show()"
   ]
  },
  {
   "cell_type": "markdown",
   "id": "0fc9b6c6-c1e8-4873-9f98-d50d79d65680",
   "metadata": {},
   "source": [
    "### Pooling"
   ]
  },
  {
   "cell_type": "code",
   "execution_count": 64,
   "id": "c5e3cbb7-d527-4dfd-87b2-e21c40424c23",
   "metadata": {},
   "outputs": [
    {
     "name": "stdout",
     "output_type": "stream",
     "text": [
      "Connection successfull\n"
     ]
    }
   ],
   "source": [
    "try:\n",
    "    pool = MySQLConnectionPool(pool_name=\"little_lemon_pool\",pool_size=5, host=\"localhost\",\\\n",
    "                               user=\"\", password=\"\",database=\"little_lemon\")\n",
    "    print(\"Connection successfull\")\n",
    "except Exception as e:\n",
    "    print(f\"Error is occured: {e}\")\n",
    "    "
   ]
  },
  {
   "cell_type": "code",
   "execution_count": 67,
   "id": "d52c80f6-6416-45ad-85a8-185703b6c00a",
   "metadata": {},
   "outputs": [
    {
     "name": "stdout",
     "output_type": "stream",
     "text": [
      "The following users want o connect to the database\n",
      "\n",
      "simean\n",
      "sebgo\n",
      "sana\n",
      "ouedraogo\n",
      "sawadogo\n"
     ]
    }
   ],
   "source": [
    "print(\"The following users want o connect to the database\\n\")\n",
    "users = [\"simean\",\"sebgo\",\"sana\",\"ouedraogo\",\"sawadogo\"]\n",
    "for user in users:\n",
    "    print(user)"
   ]
  },
  {
   "cell_type": "code",
   "execution_count": 70,
   "id": "8f669e2e-8382-4783-95cb-d01d856b7a24",
   "metadata": {},
   "outputs": [
    {
     "name": "stdout",
     "output_type": "stream",
     "text": [
      "User want o query data from bookings\n"
     ]
    }
   ],
   "source": [
    "print(\"User want o query data from bookings\")\n",
    "query = \"\"\"SELECT * FROM bookings WHERE bookingId = \"%(booking_id)s\" \"\"\""
   ]
  },
  {
   "cell_type": "code",
   "execution_count": 69,
   "id": "14ddb2bd-0759-4d88-95f2-794cbde2d641",
   "metadata": {},
   "outputs": [
    {
     "name": "stdout",
     "output_type": "stream",
     "text": [
      "The connection id for simean is requesting info on book 19\n",
      "[(1, 12, 'Anna', 'Iversen', datetime.timedelta(seconds=68400), 1)]\n",
      "The connection id for sebgo is requesting info on book 20\n",
      "[(2, 12, 'Joakim', 'Iversen', datetime.timedelta(seconds=68400), 1)]\n",
      "The connection id for sana is requesting info on book 21\n",
      "[(3, 19, 'Vanessa', 'McCarthy', datetime.timedelta(seconds=54000), 3)]\n",
      "The connection id for ouedraogo is requesting info on book 22\n",
      "[]\n",
      "The connection id for sawadogo is requesting info on book 23\n",
      "[(5, 5, 'Hiroki', 'Yamane', datetime.timedelta(seconds=66600), 2)]\n"
     ]
    }
   ],
   "source": [
    "for i in range( pool.pool_size ):\n",
    "    conn = pool.get_connection()\n",
    "    if conn.is_connected():\n",
    "        cursor = conn.cursor()\n",
    "        print(\"The connection id for {} is requesting info on book {}\".format(users[i],conn.connection_id,i+1))\n",
    "        cursor.execute(query,{\"booking_id\":i+1})\n",
    "        print(cursor.fetchall())\n",
    "    else:\n",
    "        print(\"No live connection made\")\n",
    "\n",
    "    conn.close()"
   ]
  }
 ],
 "metadata": {
  "kernelspec": {
   "display_name": "Python 3 (ipykernel)",
   "language": "python",
   "name": "python3"
  },
  "language_info": {
   "codemirror_mode": {
    "name": "ipython",
    "version": 3
   },
   "file_extension": ".py",
   "mimetype": "text/x-python",
   "name": "python",
   "nbconvert_exporter": "python",
   "pygments_lexer": "ipython3",
   "version": "3.11.4"
  }
 },
 "nbformat": 4,
 "nbformat_minor": 5
}
