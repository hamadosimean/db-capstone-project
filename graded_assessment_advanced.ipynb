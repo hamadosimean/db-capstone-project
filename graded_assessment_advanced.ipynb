{
 "cells": [
  {
   "cell_type": "code",
   "execution_count": 1,
   "id": "bf993383-957d-4fcb-8e9d-db1ee16d7ba5",
   "metadata": {},
   "outputs": [],
   "source": [
    "# Import MySQL Connector/Python \n",
    "import mysql.connector as connector\n",
    "\n",
    "connection=connector.connect(user=\"root\",password=\"FATIHAM68860\")"
   ]
  },
  {
   "cell_type": "code",
   "execution_count": 2,
   "id": "abcc09e0-b667-451b-8591-0b32ad898cdf",
   "metadata": {},
   "outputs": [],
   "source": [
    "cursor = connection.cursor()"
   ]
  },
  {
   "cell_type": "code",
   "execution_count": null,
   "id": "09b8624e-bfab-4a4b-b753-e78b843bf81c",
   "metadata": {},
   "outputs": [],
   "source": [
    "## Database creation\n",
    "\n",
    "query = \"DROP DATABASE IF EXISTS little_lemon\"\n",
    "cursor.execute(query)"
   ]
  },
  {
   "cell_type": "code",
   "execution_count": null,
   "id": "858f7d6b-aefc-4197-a9f5-a923d4e9e0c2",
   "metadata": {},
   "outputs": [],
   "source": []
  },
  {
   "cell_type": "code",
   "execution_count": null,
   "id": "7d077b35-8c2a-47b4-8a5d-0ee384c23f64",
   "metadata": {},
   "outputs": [],
   "source": [
    "query = \"CREATE DATABASE IF NOT EXISTS little_lemon\""
   ]
  }
 ],
 "metadata": {
  "kernelspec": {
   "display_name": "Python 3 (ipykernel)",
   "language": "python",
   "name": "python3"
  },
  "language_info": {
   "codemirror_mode": {
    "name": "ipython",
    "version": 3
   },
   "file_extension": ".py",
   "mimetype": "text/x-python",
   "name": "python",
   "nbconvert_exporter": "python",
   "pygments_lexer": "ipython3",
   "version": "3.11.4"
  }
 },
 "nbformat": 4,
 "nbformat_minor": 5
}
